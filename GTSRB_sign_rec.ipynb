{
  "nbformat": 4,
  "nbformat_minor": 0,
  "metadata": {
    "colab": {
      "name": "GTSRB_sign_rec.ipynb",
      "provenance": [],
      "collapsed_sections": []
    },
    "kernelspec": {
      "name": "python3",
      "display_name": "Python 3"
    },
    "language_info": {
      "name": "python"
    }
  },
  "cells": [
    {
      "cell_type": "code",
      "metadata": {
        "colab": {
          "base_uri": "https://localhost:8080/"
        },
        "id": "UgZ52x_YNcx-",
        "outputId": "5f240b09-be99-44b3-dc08-0acee14fa7f3"
      },
      "source": [
        "from google.colab import drive\n",
        "drive.mount('/content/drive')"
      ],
      "execution_count": 5,
      "outputs": [
        {
          "output_type": "stream",
          "text": [
            "Drive already mounted at /content/drive; to attempt to forcibly remount, call drive.mount(\"/content/drive\", force_remount=True).\n"
          ],
          "name": "stdout"
        }
      ]
    },
    {
      "cell_type": "code",
      "metadata": {
        "id": "wg2FXxfnN_eH"
      },
      "source": [
        "import numpy as np \n",
        "import pandas as pd"
      ],
      "execution_count": 6,
      "outputs": []
    },
    {
      "cell_type": "code",
      "metadata": {
        "id": "AuhwfRlwQVl8"
      },
      "source": [
        "!unzip /content/drive/MyDrive/GTSRB.zip"
      ],
      "execution_count": null,
      "outputs": []
    },
    {
      "cell_type": "code",
      "metadata": {
        "id": "5bIYtzhGQmwQ"
      },
      "source": [
        "import numpy as np \n",
        "import pandas as pd \n",
        "import matplotlib.pyplot as plt\n",
        "import cv2\n",
        "import tensorflow as tf\n",
        "from PIL import Image\n",
        "import os\n",
        "from sklearn.model_selection import train_test_split\n",
        "from keras.utils import to_categorical\n",
        "from keras.models import Sequential, load_model\n",
        "from keras.layers import Conv2D, MaxPool2D, Dense, Flatten, Dropout"
      ],
      "execution_count": 10,
      "outputs": []
    },
    {
      "cell_type": "code",
      "metadata": {
        "colab": {
          "base_uri": "https://localhost:8080/"
        },
        "id": "zX8sXAj6Q0Bi",
        "outputId": "31cfffab-b43e-4257-dbda-c8a6fe1bae43"
      },
      "source": [
        "data=[]\n",
        "labels=[]\n",
        "\n",
        "height = 30\n",
        "width = 30\n",
        "channels = 3\n",
        "classes = 43\n",
        "n_inputs = height * width * channels\n",
        "\n",
        "for i in range(classes) :\n",
        "    path = \"/content/GTSRB/{0}/\".format(i)\n",
        "    print(path)\n",
        "    Class=os.listdir(path)\n",
        "    for a in Class:\n",
        "        try:\n",
        "            image=cv2.imread(path+a)\n",
        "            image_from_array = Image.fromarray(image, 'RGB')\n",
        "            size_image = image_from_array.resize((height, width))\n",
        "            data.append(np.array(size_image))\n",
        "            labels.append(i)\n",
        "        except AttributeError:\n",
        "            print(\" \")\n",
        "            \n",
        "Cells=np.array(data)\n",
        "labels=np.array(labels)\n",
        "\n",
        "\n",
        "#Randomize the order of the input images\n",
        "s=np.arange(Cells.shape[0])\n",
        "np.random.seed(42)\n",
        "np.random.shuffle(s)\n",
        "Cells=Cells[s]\n",
        "labels=labels[s]"
      ],
      "execution_count": 23,
      "outputs": [
        {
          "output_type": "stream",
          "text": [
            "/content/GTSRB/0/\n",
            "/content/GTSRB/1/\n",
            "/content/GTSRB/2/\n",
            "/content/GTSRB/3/\n",
            "/content/GTSRB/4/\n",
            "/content/GTSRB/5/\n",
            "/content/GTSRB/6/\n",
            "/content/GTSRB/7/\n",
            "/content/GTSRB/8/\n",
            "/content/GTSRB/9/\n",
            "/content/GTSRB/10/\n",
            "/content/GTSRB/11/\n",
            "/content/GTSRB/12/\n",
            "/content/GTSRB/13/\n",
            "/content/GTSRB/14/\n",
            "/content/GTSRB/15/\n",
            "/content/GTSRB/16/\n",
            "/content/GTSRB/17/\n",
            "/content/GTSRB/18/\n",
            "/content/GTSRB/19/\n",
            "/content/GTSRB/20/\n",
            "/content/GTSRB/21/\n",
            "/content/GTSRB/22/\n",
            "/content/GTSRB/23/\n",
            "/content/GTSRB/24/\n",
            "/content/GTSRB/25/\n",
            "/content/GTSRB/26/\n",
            "/content/GTSRB/27/\n",
            "/content/GTSRB/28/\n",
            "/content/GTSRB/29/\n",
            "/content/GTSRB/30/\n",
            "/content/GTSRB/31/\n",
            "/content/GTSRB/32/\n",
            "/content/GTSRB/33/\n",
            "/content/GTSRB/34/\n",
            "/content/GTSRB/35/\n",
            "/content/GTSRB/36/\n",
            "/content/GTSRB/37/\n",
            "/content/GTSRB/38/\n",
            "/content/GTSRB/39/\n",
            "/content/GTSRB/40/\n",
            "/content/GTSRB/41/\n",
            "/content/GTSRB/42/\n"
          ],
          "name": "stdout"
        }
      ]
    },
    {
      "cell_type": "code",
      "metadata": {
        "colab": {
          "base_uri": "https://localhost:8080/"
        },
        "id": "lpH2FFKJTN3p",
        "outputId": "7385d94d-09f7-43c4-ed0d-088b4b2b3927"
      },
      "source": [
        "(X_train,X_val)=Cells[(int)(0.15*len(labels)):],Cells[:(int)(0.15*len(labels))]\n",
        "\n",
        "X_train = X_train.astype('float32')/255 \n",
        "X_val = X_val.astype('float32')/255\n",
        "\n",
        "(y_train,y_val)=labels[(int)(0.15*len(labels)):],labels[:(int)(0.15*len(labels))]\n",
        "\n",
        "print(X_train.shape)\n",
        "print(X_val.shape)"
      ],
      "execution_count": 24,
      "outputs": [
        {
          "output_type": "stream",
          "text": [
            "(33328, 30, 30, 3)\n",
            "(5881, 30, 30, 3)\n"
          ],
          "name": "stdout"
        }
      ]
    },
    {
      "cell_type": "code",
      "metadata": {
        "id": "TKg9G4SVTVYS"
      },
      "source": [
        "from keras.utils import to_categorical\n",
        "y_train = to_categorical(y_train, 43)\n",
        "y_val = to_categorical(y_val, 43)"
      ],
      "execution_count": 25,
      "outputs": []
    },
    {
      "cell_type": "code",
      "metadata": {
        "id": "DSdcpiz0TeuX"
      },
      "source": [
        "#Building the model\n",
        "model = Sequential()\n",
        "model.add(Conv2D(filters=32, kernel_size=(5,5), activation='relu', input_shape=X_train.shape[1:]))\n",
        "model.add(Conv2D(filters=32, kernel_size=(5,5), activation='relu'))\n",
        "model.add(MaxPool2D(pool_size=(2, 2)))\n",
        "model.add(Dropout(rate=0.3))\n",
        "model.add(Conv2D(filters=64, kernel_size=(3, 3), activation='relu'))\n",
        "model.add(Conv2D(filters=128, kernel_size=(2, 2), activation='relu'))\n",
        "model.add(MaxPool2D(pool_size=(2, 2)))\n",
        "model.add(Dropout(rate=0.3))\n",
        "model.add(Flatten())\n",
        "model.add(Dense(512, activation='relu'))\n",
        "model.add(Dropout(rate=0.5))\n",
        "model.add(Dense(43, activation='softmax'))"
      ],
      "execution_count": 26,
      "outputs": []
    },
    {
      "cell_type": "code",
      "metadata": {
        "id": "MYUfsm10XnBW"
      },
      "source": [
        "model.compile(\n",
        "    loss='categorical_crossentropy', \n",
        "    optimizer='adam', \n",
        "    metrics=['accuracy']\n",
        ")"
      ],
      "execution_count": 27,
      "outputs": []
    },
    {
      "cell_type": "code",
      "metadata": {
        "id": "b2JMAwKWXtkT"
      },
      "source": [
        "X_test=X_val\n",
        "\n",
        "y_test=y_val"
      ],
      "execution_count": 28,
      "outputs": []
    },
    {
      "cell_type": "code",
      "metadata": {
        "colab": {
          "base_uri": "https://localhost:8080/"
        },
        "id": "t_FF5vbwXw-n",
        "outputId": "cf0985bf-c499-4afa-ae67-0e84f3013488"
      },
      "source": [
        "epochs = 20\n",
        "history = model.fit(X_train,\n",
        "                    y_train,\n",
        "                    batch_size=32,\n",
        "                    epochs=epochs,\n",
        "                    validation_data=(X_test, y_test))"
      ],
      "execution_count": 29,
      "outputs": [
        {
          "output_type": "stream",
          "text": [
            "Epoch 1/20\n",
            "1042/1042 [==============================] - 139s 132ms/step - loss: 1.9004 - accuracy: 0.4844 - val_loss: 0.0999 - val_accuracy: 0.9726\n",
            "Epoch 2/20\n",
            "1042/1042 [==============================] - 136s 130ms/step - loss: 0.2028 - accuracy: 0.9353 - val_loss: 0.0368 - val_accuracy: 0.9920\n",
            "Epoch 3/20\n",
            "1042/1042 [==============================] - 137s 131ms/step - loss: 0.1145 - accuracy: 0.9657 - val_loss: 0.0362 - val_accuracy: 0.9906\n",
            "Epoch 4/20\n",
            "1042/1042 [==============================] - 137s 131ms/step - loss: 0.0990 - accuracy: 0.9692 - val_loss: 0.0204 - val_accuracy: 0.9954\n",
            "Epoch 5/20\n",
            "1042/1042 [==============================] - 137s 131ms/step - loss: 0.0780 - accuracy: 0.9759 - val_loss: 0.0182 - val_accuracy: 0.9954\n",
            "Epoch 6/20\n",
            "1042/1042 [==============================] - 136s 130ms/step - loss: 0.0610 - accuracy: 0.9807 - val_loss: 0.0201 - val_accuracy: 0.9949\n",
            "Epoch 7/20\n",
            "1042/1042 [==============================] - 137s 131ms/step - loss: 0.0581 - accuracy: 0.9810 - val_loss: 0.0201 - val_accuracy: 0.9947\n",
            "Epoch 8/20\n",
            "1042/1042 [==============================] - 136s 131ms/step - loss: 0.0569 - accuracy: 0.9810 - val_loss: 0.0164 - val_accuracy: 0.9959\n",
            "Epoch 9/20\n",
            "1042/1042 [==============================] - 136s 131ms/step - loss: 0.0562 - accuracy: 0.9838 - val_loss: 0.0147 - val_accuracy: 0.9963\n",
            "Epoch 10/20\n",
            "1042/1042 [==============================] - 137s 132ms/step - loss: 0.0490 - accuracy: 0.9848 - val_loss: 0.0202 - val_accuracy: 0.9935\n",
            "Epoch 11/20\n",
            "1042/1042 [==============================] - 137s 131ms/step - loss: 0.0365 - accuracy: 0.9888 - val_loss: 0.0096 - val_accuracy: 0.9966\n",
            "Epoch 12/20\n",
            "1042/1042 [==============================] - 137s 132ms/step - loss: 0.0413 - accuracy: 0.9885 - val_loss: 0.0194 - val_accuracy: 0.9947\n",
            "Epoch 13/20\n",
            "1042/1042 [==============================] - 136s 131ms/step - loss: 0.0492 - accuracy: 0.9853 - val_loss: 0.0081 - val_accuracy: 0.9978\n",
            "Epoch 14/20\n",
            "1042/1042 [==============================] - 136s 131ms/step - loss: 0.0394 - accuracy: 0.9883 - val_loss: 0.0211 - val_accuracy: 0.9951\n",
            "Epoch 15/20\n",
            "1042/1042 [==============================] - 137s 131ms/step - loss: 0.0432 - accuracy: 0.9878 - val_loss: 0.0154 - val_accuracy: 0.9964\n",
            "Epoch 16/20\n",
            "1042/1042 [==============================] - 137s 131ms/step - loss: 0.0477 - accuracy: 0.9876 - val_loss: 0.0103 - val_accuracy: 0.9969\n",
            "Epoch 17/20\n",
            "1042/1042 [==============================] - 137s 131ms/step - loss: 0.0417 - accuracy: 0.9895 - val_loss: 0.0102 - val_accuracy: 0.9978\n",
            "Epoch 18/20\n",
            "1042/1042 [==============================] - 136s 131ms/step - loss: 0.0351 - accuracy: 0.9896 - val_loss: 0.0208 - val_accuracy: 0.9951\n",
            "Epoch 19/20\n",
            "1042/1042 [==============================] - 137s 131ms/step - loss: 0.0355 - accuracy: 0.9907 - val_loss: 0.0083 - val_accuracy: 0.9973\n",
            "Epoch 20/20\n",
            "1042/1042 [==============================] - 137s 131ms/step - loss: 0.0501 - accuracy: 0.9869 - val_loss: 0.0127 - val_accuracy: 0.9973\n"
          ],
          "name": "stdout"
        }
      ]
    },
    {
      "cell_type": "code",
      "metadata": {
        "id": "Y4SZXSOMiVRT"
      },
      "source": [
        "model.save(\"model.h5\")"
      ],
      "execution_count": 30,
      "outputs": []
    },
    {
      "cell_type": "code",
      "metadata": {
        "colab": {
          "base_uri": "https://localhost:8080/"
        },
        "id": "Ew_RJL5OiZrJ",
        "outputId": "680eccc3-6111-4cf6-db9a-73d17d339f58"
      },
      "source": [
        "scores = model.evaluate(X_test, y_test, verbose=0)\n",
        "print(\"%s: %.2f%%\" % (model.metrics_names[1], scores[1]*100))"
      ],
      "execution_count": 31,
      "outputs": [
        {
          "output_type": "stream",
          "text": [
            "accuracy: 99.73%\n"
          ],
          "name": "stdout"
        }
      ]
    },
    {
      "cell_type": "code",
      "metadata": {
        "colab": {
          "base_uri": "https://localhost:8080/",
          "height": 295
        },
        "id": "x0W1QCGFie9l",
        "outputId": "a295d998-cd93-4b18-bfc2-7a6742f6244d"
      },
      "source": [
        "plt.figure(0)\n",
        "plt.plot(history.history['accuracy'], label='training accuracy')\n",
        "plt.plot(history.history['val_accuracy'], label='val accuracy')\n",
        "plt.title('Accuracy')\n",
        "plt.xlabel('epochs')\n",
        "plt.ylabel('accuracy')\n",
        "plt.legend()\n",
        "plt.show()"
      ],
      "execution_count": 32,
      "outputs": [
        {
          "output_type": "display_data",
          "data": {
            "image/png": "[encoded data removed]",
            "text/plain": [
              "<Figure size 432x288 with 1 Axes>"
            ]
          },
          "metadata": {
            "tags": [],
            "needs_background": "light"
          }
        }
      ]
    },
    {
      "cell_type": "code",
      "metadata": {
        "colab": {
          "base_uri": "https://localhost:8080/",
          "height": 295
        },
        "id": "T7XAR3uvim1t",
        "outputId": "21acf0f7-0889-4cff-f8d3-313d9c0a6e29"
      },
      "source": [
        "plt.figure(1)\n",
        "plt.plot(history.history['loss'], label='training loss')\n",
        "plt.plot(history.history['val_loss'], label='val loss')\n",
        "plt.title('Loss')\n",
        "plt.xlabel('epochs')\n",
        "plt.ylabel('loss')\n",
        "plt.legend()\n",
        "plt.show()"
      ],
      "execution_count": 33,
      "outputs": [
        {
          "output_type": "display_data",
          "data": {
            "image/png": "[encoded data removed]",
            "text/plain": [
              "<Figure size 432x288 with 1 Axes>"
            ]
          },
          "metadata": {
            "tags": [],
            "needs_background": "light"
          }
        }
      ]
    }
  ]
}