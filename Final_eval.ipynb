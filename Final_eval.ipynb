{
  "nbformat": 4,
  "nbformat_minor": 0,
  "metadata": {
    "colab": {
      "name": "Untitled3.ipynb",
      "provenance": [],
      "mount_file_id": "1RYRIYnCGLBUMubTtAHrHeyanQRjLSwaK",
      "authorship_tag": "ABX9TyM7SifIRLssfvqXwjXYI/5n",
      "include_colab_link": true
    },
    "kernelspec": {
      "name": "python3",
      "display_name": "Python 3"
    },
    "language_info": {
      "name": "python"
    }
  },
  "cells": [
    {
      "cell_type": "markdown",
      "metadata": {
        "id": "view-in-github",
        "colab_type": "text"
      },
      "source": [
        "<a href=\"https://colab.research.google.com/github/iitmcvg/InterIIT_2021/blob/main/Final_eval.ipynb\" target=\"_parent\"><img src=\"https://colab.research.google.com/assets/colab-badge.svg\" alt=\"Open In Colab\"/></a>"
      ]
    },
    {
      "cell_type": "code",
      "metadata": {
        "id": "PFfLAlpSyPnk"
      },
      "source": [
        "from sklearn import metrics\n",
        "import matplotlib.pyplot as plt\n",
        "\n",
        "import numpy as np\n",
        "import pandas as pd\n",
        "import seaborn as sn\n",
        "import tensorflow as tf\n",
        "from tensorflow import keras\n",
        "from tensorflow.keras import layers\n",
        "from tensorflow.keras.layers.experimental import preprocessing\n",
        "from tensorflow.keras.models import Sequential\n",
        "from tensorflow.keras.applications import EfficientNetB0\n",
        "from sklearn import decomposition\n",
        "\n",
        "import mlflow\n",
        "\n",
        "# n = no. of classes\n",
        "def get_confusion_matrix(true_labels, pred_labels,n):\n",
        "    \n",
        "    cm = metrics.confusion_matrix(true_labels, pred_labels)\n",
        "    df_cm = pd.DataFrame(cm, range(n), range(n))\n",
        "    heatmap = sn.heatmap(df_cm)\n",
        "    figure = heatmap.get_figure()\n",
        "    path = 'run_latest/conf_mat.png'\n",
        "    figure.savefig(path, dpi=400)\n",
        "    return path\n",
        "\n",
        "def get_classification_report(true_labels, pred_labels, run_id, target_names):\n",
        "    class_report = metrics.classification_report(true_labels,pred_labels,target_names=target_names,output_dict=True)\n",
        "    \n",
        "    with mlflow.start_run(run_id=run_id):\n",
        "        for key in target_names:\n",
        "            mlflow.log_metric(key+\" f1-score\",class_report[key]['f1-score'])\n",
        "    df = pd.DataFrame(class_report).transpose()\n",
        "    path = 'run_latest/classification_report.csv'\n",
        "    df.to_csv(path)\n",
        "    return path\n",
        "\n",
        "\n",
        "def get_pca(data, n_components = 2):\n",
        "    pca = decomposition.PCA()\n",
        "    pca.n_components = n_components\n",
        "    pca_data = pca.fit_transform(data)\n",
        "    return pca_data\n",
        "\n",
        "def plot_representations(data, labels, classes, n_images = None):\n",
        "    \n",
        "    if n_images is not None:\n",
        "        data = data[:n_images]\n",
        "        labels = labels[:n_images]\n",
        "        \n",
        "    fig = plt.figure(figsize = (10, 10))\n",
        "    ax = fig.add_subplot(111)\n",
        "    scatter = ax.scatter(data[:, 0], data[:, 1], c = labels, cmap = 'tab10')\n",
        "    handles, labels = scatter.legend_elements()\n",
        "    legend = ax.legend(handles = handles, labels = classes)\n",
        "    path = 'run_latest/pca_analysis.png'\n",
        "    fig.savefig(path)\n",
        "    return path\n",
        "\n",
        "def get_pca_plot(test_dataset_dir, model, classes):\n",
        "\n",
        "    IMG_SIZE=224\n",
        "    NUM_CLASSES=48\n",
        "\n",
        "    test_dataset = tf.keras.preprocessing.image_dataset_from_directory(\n",
        "        test_dataset_dir,\n",
        "        seed=123,\n",
        "        image_size=(IMG_SIZE, IMG_SIZE))\n",
        "\n",
        "    base_model = EfficientNetB0(include_top=False, weights='imagenet')\n",
        "    global_average_layer = tf.keras.layers.GlobalAveragePooling2D()\n",
        "    preprocess_input = tf.keras.applications.efficientnet.preprocess_input\n",
        "    prediction_layer = tf.keras.layers.Dense(NUM_CLASSES,activation='softmax')\n",
        "\n",
        "    inputs = tf.keras.Input(shape=(IMG_SIZE, IMG_SIZE, 3))\n",
        "    #y = rescale(inputs)\n",
        "    x = preprocess_input(inputs)\n",
        "    x = base_model(x, training=False)\n",
        "    outputs = global_average_layer(x)\n",
        "\n",
        "    model1 = tf.keras.Model(inputs, outputs)\n",
        "    model1.set_weights(model.get_weights()[:len(model1.get_weights())]) \n",
        "\n",
        "\n",
        "    intermediates = []\n",
        "    labels = []\n",
        "\n",
        "    for x, y in test_dataset:\n",
        "        output = list(model1.predict(x))\n",
        "        intermediates.extend(output)\n",
        "        labels.extend(list(y))\n",
        "\n",
        "    output_pca_data = get_pca(intermediates)\n",
        "    path = plot_representations(output_pca_data, labels, classes)\n",
        "    return path\n",
        "\n",
        "def model_eval_fns(test_dataset_dir, model_path, classes, run_id):\n",
        "\n",
        "    IMG_SIZE=224\n",
        "    NUM_CLASSES=48\n",
        "\n",
        "    model = tf.keras.models.load_model(model_path)\n",
        "    # Show the model architecture\n",
        "    model.summary()\n",
        "\n",
        "    test_dataset = tf.keras.preprocessing.image_dataset_from_directory(\n",
        "        test_dataset_dir,\n",
        "        seed=123,\n",
        "        image_size=(IMG_SIZE, IMG_SIZE))\n",
        "\n",
        "    y1 = np.array([]) \n",
        "    y2 = np.array([])\n",
        "    for x, y in test_dataset:\n",
        "        y_true=np.argmax(model.predict(x),axis=1)\n",
        "        y1=np.append(y1,y_true)\n",
        "        y2=np.append(y2,y.numpy())\n",
        "    \n",
        "    path1 = get_confusion_matrix(y1, y2, NUM_CLASSES)\n",
        "    path2 = get_classification_report(y1, y2, run_id, target_names=classes.values())\n",
        "    path3 = get_pca_plot(test_dataset_dir, model, classes)\n",
        "\n",
        "    with mlflow.start_run(run_id=run_id):\n",
        "        mlflow.log_artifact(path1)\n",
        "        mlflow.log_artifact(path2)\n",
        "        mlflow.log_artifact(path3)\n",
        "\n",
        "def predict(x, model, csv_file):\n",
        "  sign_names = pd.read_csv('/content/drive/MyDrive/signnames_added_classes.csv')\n",
        "\n",
        "  top5softmax = np.zeros((5,1))\n",
        "\n",
        "  top5softmax = heapq.nlargest(5, range(NUM_CLASSES), model.predict(x).take)\n",
        "  output_dict = {}\n",
        "\n",
        "  for i in range(5):\n",
        "    prob = model.predict(x)[top5softmax[i]]\n",
        "    output_dict.add(prob, sign_names[\"SignName\"][top5softmax[i]])\n",
        "\n",
        "    with open(csv_file, 'w') as f:\n",
        "      for key in output_dict.keys():\n",
        "        f.write(\"%d, %s\\n\" % (key, output_dict[key]))\n",
        "\n",
        "if __name__ == \"__main__\":\n",
        "    test_dataset_dir = \"/home/lordgrim/Final_interiit/datasets/Test_dataset_48_classes\"\n",
        "    model_path = \"/home/lordgrim/Final_interiit/latest_model\"\n",
        "    model_eval_fns(test_dataset_dir, model_path, classes)"
      ],
      "execution_count": null,
      "outputs": []
    },
    {
      "cell_type": "code",
      "metadata": {
        "id": "XWdYh4hy0sP6"
      },
      "source": [
        "import pandas as pd\n",
        "\n",
        "sign_names = pd.read_csv('/content/drive/MyDrive/signnames_added_classes.csv')"
      ],
      "execution_count": 1,
      "outputs": []
    },
    {
      "cell_type": "code",
      "metadata": {
        "colab": {
          "base_uri": "https://localhost:8080/",
          "height": 35
        },
        "id": "0eo_KByH2K3W",
        "outputId": "014c8cc6-7f2d-4892-c6f8-860e6e9b89e0"
      },
      "source": [
        "sign_names[\"SignName\"][0]"
      ],
      "execution_count": 10,
      "outputs": [
        {
          "output_type": "execute_result",
          "data": {
            "application/vnd.google.colaboratory.intrinsic+json": {
              "type": "string"
            },
            "text/plain": [
              "'Speed limit (20km/h)'"
            ]
          },
          "metadata": {
            "tags": []
          },
          "execution_count": 10
        }
      ]
    },
    {
      "cell_type": "code",
      "metadata": {
        "id": "SgIXhNWv2NDS"
      },
      "source": [
        "def predict(x, model, csv_file):\n",
        "  sign_names = pd.read_csv('/content/drive/MyDrive/signnames_added_classes.csv')\n",
        "\n",
        "  top5softmax = np.zeros((5,1))\n",
        "\n",
        "  top5softmax = heapq.nlargest(5, range(NUM_CLASSES), model.predict(x).take)\n",
        "  output_dict = {}\n",
        "\n",
        "  for i in range(5):\n",
        "    prob = model.predict(x)[top5softmax[i]]\n",
        "    output_dict.add(prob, sign_names[\"SignName\"][top5softmax[i]])\n",
        "\n",
        "    with open(csv_file, 'w') as f:\n",
        "      for key in output_dict.keys():\n",
        "        f.write(\"%d, %s\\n\" % (key, output_dict[key]))"
      ],
      "execution_count": 13,
      "outputs": []
    },
    {
      "cell_type": "code",
      "metadata": {
        "id": "6Fp855bk9apV"
      },
      "source": [
        ""
      ],
      "execution_count": null,
      "outputs": []
    }
  ]
}